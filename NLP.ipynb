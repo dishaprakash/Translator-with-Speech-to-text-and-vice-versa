{
  "cells": [
    {
      "cell_type": "markdown",
      "metadata": {
        "id": "XP0sJFtXWmpD"
      },
      "source": [
        "# **Pre Processing**"
      ]
    },
    {
      "cell_type": "code",
      "execution_count": null,
      "metadata": {
        "id": "WaoqoSNEO7cW"
      },
      "outputs": [],
      "source": [
        "def load_data(filepath):\n",
        "\tfile = open(filepath, mode='rt', encoding='utf-8')\n",
        "\ttext = file.read()\n",
        "\tfile.close()\n",
        "\treturn text"
      ]
    },
    {
      "cell_type": "code",
      "execution_count": null,
      "metadata": {
        "id": "j-Opq0-lPYj-"
      },
      "outputs": [],
      "source": [
        "def phrase_pairs(data):\n",
        "\tlines = data.strip().split('\\n')\n",
        "\tpairs = [line.split('\\t')[:2] for line in  lines]\n",
        "\treturn pairs"
      ]
    },
    {
      "cell_type": "code",
      "execution_count": null,
      "metadata": {
        "id": "PM4fzLlrPsF5"
      },
      "outputs": [],
      "source": [
        "def clean_data(lines):\n",
        "\tcleaned = list()\n",
        "\t# regex for characters \n",
        "\tre_print = re.compile('[^%s]' % re.escape(string.printable))\n",
        "\ttable = str.maketrans('', '', string.punctuation)\n",
        "\tfor pair in lines:\n",
        "\t\tclean_pair = list()\n",
        "\t\tfor line in pair:\n",
        "\t\t\t# normalize unicode characters\n",
        "\t\t\tline = normalize('NFD', line).encode('ascii', 'ignore')\n",
        "\t\t\tline = line.decode('UTF-8')\n",
        "\t\t\t# tokenize on white space\n",
        "\t\t\tline = line.split()\n",
        "\t\t\t# convert to lowercase\n",
        "\t\t\tline = [word.lower() for word in line]\n",
        "\t\t\t# remove punctuation from each token\n",
        "\t\t\tline = [word.translate(table) for word in line]\n",
        "\t\t\t# remove non-printable chars form each token\n",
        "\t\t\tline = [re_print.sub('', w) for w in line]\n",
        "\t\t\tline = [word for word in line if word.isalpha()]\n",
        "\t\t\t# store as string\n",
        "\t\t\tclean_pair.append(' '.join(line))\n",
        "\t\tcleaned.append(clean_pair)\n",
        "\treturn array(cleaned)"
      ]
    },
    {
      "cell_type": "code",
      "execution_count": null,
      "metadata": {
        "id": "odxFI-NgRuEU"
      },
      "outputs": [],
      "source": [
        "import string\n",
        "import re\n",
        "from pickle import dump\n",
        "from unicodedata import normalize\n",
        "from numpy import array"
      ]
    },
    {
      "cell_type": "code",
      "execution_count": null,
      "metadata": {
        "id": "ofO32yn-R0Ra"
      },
      "outputs": [],
      "source": [
        "def save_clean_data(sentences, filepath):\n",
        "\tdump(sentences, open(filepath, 'wb'))\n",
        "\tprint('Saved: %s' % filepath)"
      ]
    },
    {
      "cell_type": "code",
      "execution_count": null,
      "metadata": {
        "colab": {
          "base_uri": "https://localhost:8080/"
        },
        "id": "aaxxCoJcSFat",
        "outputId": "14edbfd5-159f-4f89-9a36-ebedc262bbd3"
      },
      "outputs": [
        {
          "name": "stdout",
          "output_type": "stream",
          "text": [
            "Saved: french-english.pkl\n"
          ]
        }
      ],
      "source": [
        "filepath = 'fra.txt'\n",
        "data = load_data(filepath)\n",
        "pairs = phrase_pairs(data)\n",
        "clean_pairs = clean_data(pairs)\n",
        "save_clean_data(clean_pairs, 'french-english.pkl')\n"
      ]
    },
    {
      "cell_type": "code",
      "execution_count": null,
      "metadata": {
        "colab": {
          "base_uri": "https://localhost:8080/"
        },
        "id": "cQq_BCvNSpxH",
        "outputId": "c19f3d7f-5217-45a4-bc4d-0f6029dfa2af"
      },
      "outputs": [
        {
          "name": "stdout",
          "output_type": "stream",
          "text": [
            "[go] => [va]\n",
            "[go] => [marche]\n",
            "[go] => [bouge]\n",
            "[hi] => [salut]\n",
            "[hi] => [salut]\n",
            "[run] => [cours]\n",
            "[run] => [courez]\n",
            "[run] => [prenez vos jambes a vos cous]\n",
            "[run] => [file]\n",
            "[run] => [filez]\n"
          ]
        }
      ],
      "source": [
        "for i in range(10):\n",
        "  print('[%s] => [%s]' % (clean_pairs[i,0],clean_pairs[i,1]))"
      ]
    },
    {
      "cell_type": "code",
      "execution_count": null,
      "metadata": {
        "colab": {
          "base_uri": "https://localhost:8080/"
        },
        "id": "wNpeQQuwTtP4",
        "outputId": "f16a5ebf-5af4-4b73-f1bf-7e0d8e679f15"
      },
      "outputs": [
        {
          "name": "stdout",
          "output_type": "stream",
          "text": [
            "192341\n"
          ]
        }
      ],
      "source": [
        "from pickle import load\n",
        "from pickle import dump\n",
        "from numpy.random import rand\n",
        "from numpy.random import shuffle\n",
        "\n",
        "def load_clean_sentences(filename):\n",
        "  return load(open(filename, 'rb'))\n",
        "\n",
        "raw_dataset = load_clean_sentences('french-english.pkl')\n",
        "print(len(raw_dataset))"
      ]
    },
    {
      "cell_type": "code",
      "execution_count": null,
      "metadata": {
        "id": "bemhnA25Uro6"
      },
      "outputs": [],
      "source": [
        "n_sentences = 20000\n",
        "dataset = raw_dataset[:n_sentences, :]\n",
        "shuffle(dataset)\n",
        "train, test = dataset[:18000], dataset[18000:]"
      ]
    },
    {
      "cell_type": "code",
      "execution_count": null,
      "metadata": {
        "colab": {
          "base_uri": "https://localhost:8080/"
        },
        "id": "PZj_X2uXWQZe",
        "outputId": "c5f6b066-7cb9-457f-fdfb-e26f51b59717"
      },
      "outputs": [
        {
          "name": "stdout",
          "output_type": "stream",
          "text": [
            "Saved: french-reduced.pkl\n",
            "Saved: french-train.pkl\n",
            "Saved: french-test.pkl\n"
          ]
        }
      ],
      "source": [
        "save_clean_data(dataset, 'french-reduced.pkl')\n",
        "save_clean_data(train, 'french-train.pkl')\n",
        "save_clean_data(test, 'french-test.pkl')"
      ]
    },
    {
      "cell_type": "markdown",
      "metadata": {
        "id": "CmKmGMHbXmi4"
      },
      "source": [
        "\n",
        "**Data splitting**"
      ]
    },
    {
      "cell_type": "code",
      "execution_count": null,
      "metadata": {
        "id": "hTk45IrheSwK"
      },
      "outputs": [],
      "source": [
        "from pickle import load\n",
        "from pickle import dump\n",
        "\n",
        "# load a clean dataset\n",
        "def load_clean_sentences(filename):\n",
        "\treturn load(open(filename, 'rb'))\n",
        " \n",
        "# load datasets\n",
        "dataset = load_clean_sentences('french-reduced.pkl')\n",
        "train = load_clean_sentences('french-train.pkl')\n",
        "test = load_clean_sentences('french-test.pkl')"
      ]
    },
    {
      "cell_type": "code",
      "execution_count": null,
      "metadata": {
        "id": "nmb3VikkVku6"
      },
      "outputs": [],
      "source": [
        "from keras.preprocessing.text import Tokenizer\n",
        "def create_tokenizer(lines):\n",
        "\ttokenizer = Tokenizer()\n",
        "\ttokenizer.fit_on_texts(lines)\n",
        "\treturn tokenizer"
      ]
    },
    {
      "cell_type": "code",
      "execution_count": null,
      "metadata": {
        "id": "ZI5wqTrNXy8A"
      },
      "outputs": [],
      "source": [
        "# max phrase length\n",
        "def max_length(lines):\n",
        "\treturn max(len(line.split()) for line in lines)"
      ]
    },
    {
      "cell_type": "code",
      "execution_count": null,
      "metadata": {
        "colab": {
          "base_uri": "https://localhost:8080/"
        },
        "id": "q8i4tAAZX3Ts",
        "outputId": "ac0c1f9d-5164-44e7-ebb3-58949a34bd5e"
      },
      "outputs": [
        {
          "name": "stdout",
          "output_type": "stream",
          "text": [
            "French vocabulary size:  6977\n",
            "French maximum phrase length:  11\n"
          ]
        }
      ],
      "source": [
        "tokenizer = Tokenizer()\n",
        "french_tokenizer = create_tokenizer(dataset[:, 1])\n",
        "french_vocab_size = len(french_tokenizer.word_index) + 1\n",
        "french_max_length = max_length(dataset[:, 1])\n",
        "print(\"French vocabulary size: \", french_vocab_size)\n",
        "print(\"French maximum phrase length: \", french_max_length)"
      ]
    },
    {
      "cell_type": "code",
      "execution_count": null,
      "metadata": {
        "colab": {
          "base_uri": "https://localhost:8080/"
        },
        "id": "whkAtGI8Y0JF",
        "outputId": "8c90c25c-9cbd-4485-9440-fc6a8662b267"
      },
      "outputs": [
        {
          "name": "stdout",
          "output_type": "stream",
          "text": [
            "English Vocabulary Size: 3418\n",
            "English Max Length: 5\n"
          ]
        }
      ],
      "source": [
        "eng_tokenizer = create_tokenizer(dataset[:, 0])\n",
        "eng_vocab_size = len(eng_tokenizer.word_index) + 1\n",
        "eng_max_length = max_length(dataset[:, 0])\n",
        "print('English Vocabulary Size: %d' % eng_vocab_size)\n",
        "print('English Max Length: %d' % (eng_max_length))"
      ]
    },
    {
      "cell_type": "code",
      "execution_count": null,
      "metadata": {
        "id": "Tt-4T992b9jM"
      },
      "outputs": [],
      "source": [
        "from keras.preprocessing.sequence import pad_sequences\n",
        "from keras.utils.np_utils import to_categorical\n"
      ]
    },
    {
      "cell_type": "code",
      "execution_count": null,
      "metadata": {
        "id": "NuWtZf23Ztz9"
      },
      "outputs": [],
      "source": [
        "def encode_sequences(tokenizer, length, lines):\n",
        "  X = tokenizer.texts_to_sequences(lines)\n",
        "  X = pad_sequences(X, maxlen=length, padding='post')\n",
        "  print(X)\n",
        "  return X"
      ]
    },
    {
      "cell_type": "code",
      "execution_count": null,
      "metadata": {
        "id": "rjpffMeIa_CN"
      },
      "outputs": [],
      "source": [
        "import numpy as np\n",
        "def encode_output(sequences, vocab_size):\n",
        "\tylist = list()\n",
        "\tfor sequence in sequences:\n",
        "\t\tencoded = to_categorical(sequence, num_classes=vocab_size)\n",
        "\t\tylist.append(encoded)\n",
        "\ty = np.array(ylist)\n",
        "\ty = y.reshape(sequences.shape[0], sequences.shape[1], vocab_size)\n",
        "\treturn y"
      ]
    },
    {
      "cell_type": "code",
      "execution_count": null,
      "metadata": {
        "colab": {
          "base_uri": "https://localhost:8080/"
        },
        "id": "4Sx8BHSobLvr",
        "outputId": "a350730b-d651-4afc-f570-2c18da37d4ed"
      },
      "outputs": [
        {
          "name": "stdout",
          "output_type": "stream",
          "text": [
            "[[ 173    9  670 ...    0    0    0]\n",
            " [1814    0    0 ...    0    0    0]\n",
            " [  69  153  149 ...    0    0    0]\n",
            " ...\n",
            " [  14   91   58 ...    0    0    0]\n",
            " [   2   43 1192 ...    0    0    0]\n",
            " [   6  249  135 ...    0    0    0]]\n",
            "[[  50   23  718    0    0]\n",
            " [ 127    0    0    0    0]\n",
            " [  29  497   29 1050    0]\n",
            " ...\n",
            " [   1   74   19    0    0]\n",
            " [ 441  203    0    0    0]\n",
            " [  13    5 1145    0    0]]\n"
          ]
        }
      ],
      "source": [
        "# prepare training data\n",
        "trainX = encode_sequences(french_tokenizer, french_max_length, train[:, 1])\n",
        "trainY = encode_sequences(eng_tokenizer, eng_max_length, train[:, 0])\n",
        "trainY = encode_output(trainY, eng_vocab_size)"
      ]
    },
    {
      "cell_type": "code",
      "execution_count": null,
      "metadata": {
        "colab": {
          "base_uri": "https://localhost:8080/"
        },
        "id": "DtwxRXhUbd8L",
        "outputId": "e5f49d93-fcf7-40bd-f289-2d5f93087e62"
      },
      "outputs": [
        {
          "name": "stdout",
          "output_type": "stream",
          "text": [
            "[[  14   47 2887 ...    0    0    0]\n",
            " [6637   15 3265 ...    0    0    0]\n",
            " [3671    0    0 ...    0    0    0]\n",
            " ...\n",
            " [  99  721   31 ...    0    0    0]\n",
            " [  14   44   11 ...    0    0    0]\n",
            " [  36  331    0 ...    0    0    0]]\n",
            "[[   1   59 2212    0    0]\n",
            " [ 273   14 2190    0    0]\n",
            " [  33   57    0    0    0]\n",
            " ...\n",
            " [  28    1  143   67    0]\n",
            " [   1   42    5  123    0]\n",
            " [  84  110    0    0    0]]\n"
          ]
        }
      ],
      "source": [
        "testX = encode_sequences(french_tokenizer, french_max_length, test[:, 1])\n",
        "testY = encode_sequences(eng_tokenizer, eng_max_length, test[:, 0])\n",
        "testY = encode_output(testY, eng_vocab_size)"
      ]
    },
    {
      "cell_type": "markdown",
      "metadata": {
        "id": "h_hZ8DpKhJL0"
      },
      "source": [
        "**Defining the Model**"
      ]
    },
    {
      "cell_type": "code",
      "execution_count": null,
      "metadata": {
        "id": "iBLRbtkciZQn"
      },
      "outputs": [],
      "source": [
        "from keras.models import Sequential\n",
        "from keras.layers import Embedding, LSTM, RepeatVector, TimeDistributed, Dense\n",
        "from tensorflow.keras.utils import plot_model\n",
        "from keras.callbacks import ModelCheckpoint"
      ]
    },
    {
      "cell_type": "code",
      "execution_count": null,
      "metadata": {
        "id": "BgQBk6UZhQSJ"
      },
      "outputs": [],
      "source": [
        "def define_model(src_vocab, tar_vocab, src_timesteps, tar_timesteps, n_units):\n",
        "\tmodel = Sequential()\n",
        "\tmodel.add(Embedding(src_vocab, n_units, input_length=src_timesteps, mask_zero=True))\n",
        "\tmodel.add(LSTM(n_units))\n",
        "\tmodel.add(RepeatVector(tar_timesteps))\n",
        "\tmodel.add(LSTM(n_units, return_sequences=True))\n",
        "\tmodel.add(TimeDistributed(Dense(tar_vocab, activation='softmax')))\n",
        "\treturn model"
      ]
    },
    {
      "cell_type": "code",
      "execution_count": null,
      "metadata": {
        "id": "x4Y_nRD0ivlk"
      },
      "outputs": [],
      "source": [
        "model = define_model(french_vocab_size, eng_vocab_size, french_max_length, eng_max_length, 256)\n",
        "model.compile(optimizer='adam', loss='categorical_crossentropy', metrics=['accuracy'])"
      ]
    },
    {
      "cell_type": "code",
      "execution_count": null,
      "metadata": {
        "colab": {
          "base_uri": "https://localhost:8080/",
          "height": 1000
        },
        "id": "DzaJzfXdjU-7",
        "outputId": "8225f375-77ae-4d83-c229-f8e0aff859fc"
      },
      "outputs": [
        {
          "name": "stdout",
          "output_type": "stream",
          "text": [
            "Model: \"sequential\"\n",
            "_________________________________________________________________\n",
            " Layer (type)                Output Shape              Param #   \n",
            "=================================================================\n",
            " embedding (Embedding)       (None, 11, 256)           1786112   \n",
            "                                                                 \n",
            " lstm (LSTM)                 (None, 256)               525312    \n",
            "                                                                 \n",
            " repeat_vector (RepeatVector  (None, 5, 256)           0         \n",
            " )                                                               \n",
            "                                                                 \n",
            " lstm_1 (LSTM)               (None, 5, 256)            525312    \n",
            "                                                                 \n",
            " time_distributed (TimeDistr  (None, 5, 3418)          878426    \n",
            " ibuted)                                                         \n",
            "                                                                 \n",
            "=================================================================\n",
            "Total params: 3,715,162\n",
            "Trainable params: 3,715,162\n",
            "Non-trainable params: 0\n",
            "_________________________________________________________________\n",
            "None\n",
            "('You must install pydot (`pip install pydot`) and install graphviz (see instructions at https://graphviz.gitlab.io/download/) ', 'for plot_model/model_to_dot to work.')\n"
          ]
        }
      ],
      "source": [
        "print(model.summary())\n",
        "plot_model(model, to_file='model.png', show_shapes=True)"
      ]
    },
    {
      "cell_type": "code",
      "execution_count": null,
      "metadata": {
        "id": "hbfQ8YF9jYE6"
      },
      "outputs": [],
      "source": [
        "filepath = 'model.h5'\n",
        "checkpoint = ModelCheckpoint(filepath, monitor='val_loss', verbose=1, save_best_only=True, mode='min')\n",
        "model.fit(trainX, trainY, epochs=30, batch_size=64, validation_data=(testX, testY), callbacks=[checkpoint], verbose=1)"
      ]
    },
    {
      "cell_type": "code",
      "execution_count": null,
      "metadata": {
        "id": "SlSYRZBSoMP0"
      },
      "outputs": [],
      "source": [
        "from keras.models import load_model"
      ]
    },
    {
      "cell_type": "code",
      "execution_count": null,
      "metadata": {
        "id": "3Gr5dwIkoEsq"
      },
      "outputs": [],
      "source": [
        "model = load_model('model.h5')"
      ]
    },
    {
      "cell_type": "code",
      "execution_count": null,
      "metadata": {
        "id": "WLUavIeioTGu"
      },
      "outputs": [],
      "source": [
        "# map an integer to a word\n",
        "def word_for_id(integer, tokenizer):\n",
        "\tfor word, index in tokenizer.word_index.items():\n",
        "\t\tif index == integer:\n",
        "\t\t\treturn word\n",
        "\treturn None"
      ]
    },
    {
      "cell_type": "code",
      "execution_count": null,
      "metadata": {
        "id": "OosQ0TRHoeEW"
      },
      "outputs": [],
      "source": [
        "# generate target given source sequence\n",
        "import numpy\n",
        "def predict_sequence(model, tokenizer, source):\n",
        "\tprediction = model.predict(source, verbose=0)[0]\n",
        "\tintegers = [numpy.argmax(vector) for vector in prediction]\n",
        "\ttarget = list()\n",
        "\tfor i in integers:\n",
        "\t\tword = word_for_id(i, tokenizer)\n",
        "\t\tif word is None:\n",
        "\t\t\tbreak\n",
        "\t\ttarget.append(word)\n",
        "\treturn ' '.join(target)"
      ]
    },
    {
      "cell_type": "code",
      "execution_count": null,
      "metadata": {
        "id": "Oe7fhBTfof2-"
      },
      "outputs": [],
      "source": [
        "def evaluate_model(model, tokenizer, sources, raw_dataset):\n",
        "\tactual, predicted = list(), list()\n",
        "\tfor i, source in enumerate(sources):\n",
        "\t\t# translate encoded source text\n",
        "\t\tsource = source.reshape((1, source.shape[0]))\n",
        "\t\ttranslation = predict_sequence(model, eng_tokenizer, source)\n",
        "\t\traw_target, raw_src = raw_dataset[i]\n",
        "\t\tif i < 15:\n",
        "\t\t\tprint('src=[%s], target=[%s], predicted=[%s]' % (raw_src, raw_target, translation))\n",
        "\t\tactual.append([raw_target.split()])\n",
        "\t\tpredicted.append(translation.split())"
      ]
    },
    {
      "cell_type": "code",
      "execution_count": null,
      "metadata": {
        "id": "PTJdEhaeokZE",
        "scrolled": true
      },
      "outputs": [],
      "source": [
        "evaluate_model(model, eng_tokenizer, trainX, train)"
      ]
    },
    {
      "cell_type": "markdown",
      "metadata": {
        "id": "PV0lyUgMyGSb"
      },
      "source": [
        "# GUI"
      ]
    },
    {
      "cell_type": "code",
      "execution_count": null,
      "metadata": {
        "id": "_Zjt8bo2yGSb"
      },
      "outputs": [],
      "source": [
        "import tkinter as tk\n",
        "from tkinter import *"
      ]
    },
    {
      "cell_type": "code",
      "execution_count": null,
      "metadata": {
        "id": "AvFgPTt4yGSg"
      },
      "outputs": [],
      "source": [
        "window=Tk()\n",
        "btn=Button(window, text=\"Translate\", fg='blue')\n",
        "btn.place(x=220, y=275)\n",
        "btn2=Button(window, text=\"Record Audio\", fg='blue')\n",
        "btn2.place(x=210, y=320)\n",
        "lbl=Label(window, text=\"Welcome to the translator\", fg='red', font=(\"Helvetica\", 16))\n",
        "lbl.place(x=130, y=50)\n",
        "txtfld=Entry(window, text=\"Type here\", bd=5)\n",
        "txtfld.place(x=230, y=150)\n",
        "lbl_1=Label(window, text=\"Type here:\")\n",
        "lbl_1.place(x=160, y=150)\n",
        "lbl_2=Label(window, text=\"Translation:\")\n",
        "lbl_2.place(x=150, y=220)\n",
        "resul=Entry()\n",
        "resul.insert(END, str(\"Result\"))\n",
        "resul.place(x=230, y=220)\n",
        "window.title('Translator')\n",
        "window.geometry(\"500x500+10+10\")\n",
        "window.mainloop()"
      ]
    },
    {
      "cell_type": "markdown",
      "metadata": {
        "id": "Rca89JNmyGSg"
      },
      "source": [
        "# SPEECH TO TEXT CODE"
      ]
    },
    {
      "cell_type": "code",
      "execution_count": null,
      "metadata": {
        "id": "ClO43YTkyGSh"
      },
      "outputs": [],
      "source": [
        "import speech_recognition as sr"
      ]
    },
    {
      "cell_type": "code",
      "execution_count": null,
      "metadata": {
        "id": "m5R75GO0yGSh"
      },
      "outputs": [],
      "source": [
        "#to convert speech to text\n",
        "def speech_recog():\n",
        "    r=sr.Recognizer()\n",
        "    with sr.Microphone() as source:\n",
        "        print(\"Speak:\")\n",
        "        audio=r.listen(source)\n",
        "\n",
        "    try:\n",
        "        txt=r.recognize_google(audio)\n",
        "        print(\"You said:\",txt)\n",
        "    except sr.UnknownValueError:\n",
        "        print(\"Could not understand audio\")\n",
        "    except sr.RequestError as e:\n",
        "        print(\"Could not request reults; {0}\".format(e))"
      ]
    },
    {
      "cell_type": "code",
      "execution_count": null,
      "metadata": {
        "id": "34J6_QcwyGSi"
      },
      "outputs": [],
      "source": [
        "speech_recog()"
      ]
    },
    {
      "cell_type": "code",
      "execution_count": null,
      "metadata": {
        "id": "GCwQ2qR3yGSi"
      },
      "outputs": [],
      "source": [
        "#to translate the speech input\n",
        "def speech_translate():\n",
        "    return predict_sequence(model, eng_tokenizer, txt)"
      ]
    },
    {
      "cell_type": "markdown",
      "metadata": {
        "id": "IiAwhBp3yGSi"
      },
      "source": [
        "# TEXT TO SPEECH CODE"
      ]
    },
    {
      "cell_type": "code",
      "execution_count": null,
      "metadata": {
        "id": "D548bPSZyGSj"
      },
      "outputs": [],
      "source": [
        "#convert a given text to speech and saves file\n",
        "from gtts import gTTS\n",
        "def text_to_speech():\n",
        "    import os\n",
        "    mytext=str(\"chocolate\")\n",
        "    language='en'\n",
        "    obj=gTTS(text=mytext, lang=language, slow=False)\n",
        "    obj.save(\"1.mp3\")\n",
        "    os.system(\"mpg321 1.mp3\")"
      ]
    },
    {
      "cell_type": "code",
      "execution_count": null,
      "metadata": {
        "id": "nn_gR-ynyGSj"
      },
      "outputs": [],
      "source": [
        "text_to_speech()"
      ]
    },
    {
      "cell_type": "code",
      "execution_count": null,
      "metadata": {
        "id": "OWdE76LryGSj"
      },
      "outputs": [],
      "source": [
        ""
      ]
    }
  ],
  "metadata": {
    "colab": {
      "collapsed_sections": [],
      "name": "NLP.ipynb",
      "provenance": []
    },
    "kernelspec": {
      "display_name": "Python 3",
      "language": "python",
      "name": "python3"
    },
    "language_info": {
      "codemirror_mode": {
        "name": "ipython",
        "version": 3
      },
      "file_extension": ".py",
      "mimetype": "text/x-python",
      "name": "python",
      "nbconvert_exporter": "python",
      "pygments_lexer": "ipython3",
      "version": "3.8.3"
    }
  },
  "nbformat": 4,
  "nbformat_minor": 0
}